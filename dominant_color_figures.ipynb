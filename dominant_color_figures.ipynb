{
 "cells": [
  {
   "cell_type": "code",
   "execution_count": 1,
   "metadata": {},
   "outputs": [],
   "source": [
    "from pandas import *\n",
    "import numpy as np\n",
    "import matplotlib.pyplot as plt"
   ]
  },
  {
   "cell_type": "code",
   "execution_count": null,
   "metadata": {},
   "outputs": [],
   "source": [
    "# row data for dominant color\n",
    "dominant_color_data_settler_3 = read_csv(\"G:\\\\.shortcut-targets-by-id\\\\1m8mQSGFIpYWyBBuka4kAy332A9fQSMBX\\\\digital_humanities\\\\Ergebnisse\\\\DominantColor\\\\Die_Siedler3\\\\Die_Siedler3_average_color_row_data.csv\")\n",
    "dominant_color_data_diablo_2 = read_csv(\"G:\\\\.shortcut-targets-by-id\\\\1m8mQSGFIpYWyBBuka4kAy332A9fQSMBX\\\\digital_humanities\\\\Ergebnisse\\\\DominantColor\\\\Diablo2\\\\Diablo2_average_color_row_data.csv\")\n",
    "dominant_color_data_elden_ring = read_csv(\"G:\\\\.shortcut-targets-by-id\\\\1m8mQSGFIpYWyBBuka4kAy332A9fQSMBX\\\\digital_humanities\\\\Ergebnisse\\\\DominantColor\\\\Elden_Ring\\\\Elden_Ring_average_color_row_data.csv\")\n",
    "dominant_color_data_half_life_2 = read_csv(\"G:\\\\.shortcut-targets-by-id\\\\1m8mQSGFIpYWyBBuka4kAy332A9fQSMBX\\\\digital_humanities\\\\Ergebnisse\\\\DominantColor\\\\Half_Life2\\\\Half_Life2_average_color_row_data.csv\")\n",
    "dominant_color_data_little_nightmares = read_csv(\"G:\\\\.shortcut-targets-by-id\\\\1m8mQSGFIpYWyBBuka4kAy332A9fQSMBX\\\\digital_humanities\\\\Ergebnisse\\\\DominantColor\\\\Little_Nightmares\\\\Little_Nightmares_average_color_row_data.csv\")\n",
    "dominant_color_data_nfsmw = read_csv(\"G:\\\\.shortcut-targets-by-id\\\\1m8mQSGFIpYWyBBuka4kAy332A9fQSMBX\\\\digital_humanities\\\\Ergebnisse\\\\DominantColor\\\\NFSMW\\\\NFSMW_average_color_row_data.csv\")\n",
    "dominant_color_data_starcraft_2 = read_csv(\"G:\\\\.shortcut-targets-by-id\\\\1m8mQSGFIpYWyBBuka4kAy332A9fQSMBX\\\\digital_humanities\\\\Ergebnisse\\\\DominantColor\\\\Starcraft2\\\\Starcraft2_average_color_row_data.csv\")\n",
    "dominant_color_data_super_mario_world = read_csv(\"G:\\\\.shortcut-targets-by-id\\\\1m8mQSGFIpYWyBBuka4kAy332A9fQSMBX\\\\digital_humanities\\\\Ergebnisse\\\\DominantColor\\\\Super_Mario_World\\\\Super_Mario_World_average_color_row_data.csv\")\n",
    "\n",
    "# output folder for dominant color figures\n",
    "output_path = \"G:\\\\.shortcut-targets-by-id\\\\1m8mQSGFIpYWyBBuka4kAy332A9fQSMBX\\\\digital_humanities\\\\Ergebnisse\\\\AverageColor\\\\Polished_Barcodes\\\\\""
   ]
  }
 ],
 "metadata": {
  "kernelspec": {
   "display_name": "Python 3",
   "language": "python",
   "name": "python3"
  },
  "language_info": {
   "codemirror_mode": {
    "name": "ipython",
    "version": 3
   },
   "file_extension": ".py",
   "mimetype": "text/x-python",
   "name": "python",
   "nbconvert_exporter": "python",
   "pygments_lexer": "ipython3",
   "version": "3.10.10"
  },
  "orig_nbformat": 4
 },
 "nbformat": 4,
 "nbformat_minor": 2
}
